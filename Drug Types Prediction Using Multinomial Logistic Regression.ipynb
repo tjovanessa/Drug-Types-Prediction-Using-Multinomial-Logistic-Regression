{
 "cells": [
  {
   "cell_type": "markdown",
   "metadata": {
    "id": "2wBQS4dOVgj2"
   },
   "source": [
    "# Drug Types Prediction Using Multinomial Logistic Regression\n",
    "Created at 30/06/2023\n",
    "\n",
    "#### Dataset\n",
    "**`drug200.csv`: https://www.kaggle.com/datasets/prathamtripathi/drug-classification**\n",
    "\n",
    "The data set contains individual health profiles including Age, Sex, BP, Cholesterol levels, and Na - K Ratio with the aim of predicting the most appropriate drug type for the respective patient."
   ]
  },
  {
   "cell_type": "markdown",
   "metadata": {
    "id": "KvPaip4qbWhW"
   },
   "source": [
    "### Import Library"
   ]
  },
  {
   "cell_type": "code",
   "execution_count": 5,
   "metadata": {
    "colab": {
     "base_uri": "https://localhost:8080/"
    },
    "id": "0T19ERM7EWDl",
    "outputId": "f580b5fd-e313-4e0e-e0ec-d72101365d03",
    "scrolled": true
   },
   "outputs": [
    {
     "name": "stderr",
     "output_type": "stream",
     "text": [
      "Installing package into ‘/usr/local/lib/R/site-library’\n",
      "(as ‘lib’ is unspecified)\n",
      "\n",
      "Installing package into ‘/usr/local/lib/R/site-library’\n",
      "(as ‘lib’ is unspecified)\n",
      "\n",
      "also installing the dependencies ‘doBy’, ‘RcppEigen’, ‘pbkrtest’, ‘quantreg’, ‘lme4’\n",
      "\n",
      "\n"
     ]
    }
   ],
   "source": [
    "install.packages(\"lmtest\")\n",
    "install.packages(\"car\")"
   ]
  },
  {
   "cell_type": "code",
   "execution_count": 31,
   "metadata": {
    "colab": {
     "base_uri": "https://localhost:8080/"
    },
    "id": "37zXZjvhnORb",
    "outputId": "7e71a761-a2a2-4787-87b2-45336c24c90b",
    "scrolled": true
   },
   "outputs": [
    {
     "name": "stderr",
     "output_type": "stream",
     "text": [
      "Installing package into ‘/usr/local/lib/R/site-library’\n",
      "(as ‘lib’ is unspecified)\n",
      "\n"
     ]
    }
   ],
   "source": [
    "install.packages(\"aod\")"
   ]
  },
  {
   "cell_type": "code",
   "execution_count": 6,
   "metadata": {
    "colab": {
     "base_uri": "https://localhost:8080/"
    },
    "id": "ZrODMt2P_IQl",
    "outputId": "f083e79b-335e-4e18-b0ef-d6f207416947"
   },
   "outputs": [
    {
     "name": "stderr",
     "output_type": "stream",
     "text": [
      "Installing package into ‘/usr/local/lib/R/site-library’\n",
      "(as ‘lib’ is unspecified)\n",
      "\n"
     ]
    }
   ],
   "source": [
    "install.packages(\"corrplot\")"
   ]
  },
  {
   "cell_type": "code",
   "execution_count": 7,
   "metadata": {
    "colab": {
     "base_uri": "https://localhost:8080/"
    },
    "id": "pwaww_Urats1",
    "outputId": "d947cb61-3aaa-4773-cfe3-6164f16c3965",
    "scrolled": true
   },
   "outputs": [
    {
     "name": "stderr",
     "output_type": "stream",
     "text": [
      "Loading required package: carData\n",
      "\n",
      "corrplot 0.95 loaded\n",
      "\n"
     ]
    }
   ],
   "source": [
    "library(lmtest)\n",
    "library(car)\n",
    "library(corrplot)"
   ]
  },
  {
   "cell_type": "code",
   "execution_count": 32,
   "metadata": {
    "id": "BpDQqGL7c1jp"
   },
   "outputs": [],
   "source": [
    "library(dplyr)\n",
    "library(aod)"
   ]
  },
  {
   "cell_type": "markdown",
   "metadata": {
    "id": "IJ3F7WWsbD95"
   },
   "source": [
    "# Multinomial Classification"
   ]
  },
  {
   "cell_type": "markdown",
   "metadata": {
    "id": "Mm-0a6D6c53Y"
   },
   "source": [
    "### Dataset"
   ]
  },
  {
   "cell_type": "code",
   "execution_count": 9,
   "metadata": {
    "colab": {
     "base_uri": "https://localhost:8080/",
     "height": 286
    },
    "id": "_xh8Dc1ZbF2Y",
    "outputId": "845edbd7-2a15-4164-a327-875cd7280744",
    "scrolled": true
   },
   "outputs": [
    {
     "data": {
      "text/html": [
       "<table class=\"dataframe\">\n",
       "<caption>A data.frame: 6 × 5</caption>\n",
       "<thead>\n",
       "\t<tr><th></th><th scope=col>Sex</th><th scope=col>BP</th><th scope=col>Cholesterol</th><th scope=col>Na_to_K</th><th scope=col>Drug</th></tr>\n",
       "\t<tr><th></th><th scope=col>&lt;chr&gt;</th><th scope=col>&lt;chr&gt;</th><th scope=col>&lt;chr&gt;</th><th scope=col>&lt;dbl&gt;</th><th scope=col>&lt;chr&gt;</th></tr>\n",
       "</thead>\n",
       "<tbody>\n",
       "\t<tr><th scope=row>1</th><td>F</td><td>HIGH  </td><td>HIGH</td><td>25.355</td><td>DrugY</td></tr>\n",
       "\t<tr><th scope=row>2</th><td>M</td><td>LOW   </td><td>HIGH</td><td>13.093</td><td>drugC</td></tr>\n",
       "\t<tr><th scope=row>3</th><td>M</td><td>LOW   </td><td>HIGH</td><td>10.114</td><td>drugC</td></tr>\n",
       "\t<tr><th scope=row>4</th><td>F</td><td>NORMAL</td><td>HIGH</td><td> 7.798</td><td>drugX</td></tr>\n",
       "\t<tr><th scope=row>5</th><td>F</td><td>LOW   </td><td>HIGH</td><td>18.043</td><td>DrugY</td></tr>\n",
       "\t<tr><th scope=row>6</th><td>F</td><td>NORMAL</td><td>HIGH</td><td> 8.607</td><td>drugX</td></tr>\n",
       "</tbody>\n",
       "</table>\n"
      ],
      "text/latex": [
       "A data.frame: 6 × 5\n",
       "\\begin{tabular}{r|lllll}\n",
       "  & Sex & BP & Cholesterol & Na\\_to\\_K & Drug\\\\\n",
       "  & <chr> & <chr> & <chr> & <dbl> & <chr>\\\\\n",
       "\\hline\n",
       "\t1 & F & HIGH   & HIGH & 25.355 & DrugY\\\\\n",
       "\t2 & M & LOW    & HIGH & 13.093 & drugC\\\\\n",
       "\t3 & M & LOW    & HIGH & 10.114 & drugC\\\\\n",
       "\t4 & F & NORMAL & HIGH &  7.798 & drugX\\\\\n",
       "\t5 & F & LOW    & HIGH & 18.043 & DrugY\\\\\n",
       "\t6 & F & NORMAL & HIGH &  8.607 & drugX\\\\\n",
       "\\end{tabular}\n"
      ],
      "text/markdown": [
       "\n",
       "A data.frame: 6 × 5\n",
       "\n",
       "| <!--/--> | Sex &lt;chr&gt; | BP &lt;chr&gt; | Cholesterol &lt;chr&gt; | Na_to_K &lt;dbl&gt; | Drug &lt;chr&gt; |\n",
       "|---|---|---|---|---|---|\n",
       "| 1 | F | HIGH   | HIGH | 25.355 | DrugY |\n",
       "| 2 | M | LOW    | HIGH | 13.093 | drugC |\n",
       "| 3 | M | LOW    | HIGH | 10.114 | drugC |\n",
       "| 4 | F | NORMAL | HIGH |  7.798 | drugX |\n",
       "| 5 | F | LOW    | HIGH | 18.043 | DrugY |\n",
       "| 6 | F | NORMAL | HIGH |  8.607 | drugX |\n",
       "\n"
      ],
      "text/plain": [
       "  Sex BP     Cholesterol Na_to_K Drug \n",
       "1 F   HIGH   HIGH        25.355  DrugY\n",
       "2 M   LOW    HIGH        13.093  drugC\n",
       "3 M   LOW    HIGH        10.114  drugC\n",
       "4 F   NORMAL HIGH         7.798  drugX\n",
       "5 F   LOW    HIGH        18.043  DrugY\n",
       "6 F   NORMAL HIGH         8.607  drugX"
      ]
     },
     "metadata": {},
     "output_type": "display_data"
    }
   ],
   "source": [
    "drug <- read.csv(\"drug200.csv\")\n",
    "drug <- drug[, -1]\n",
    "head(drug)"
   ]
  },
  {
   "cell_type": "markdown",
   "metadata": {},
   "source": [
    "### Label Encoding"
   ]
  },
  {
   "cell_type": "code",
   "execution_count": 10,
   "metadata": {
    "colab": {
     "base_uri": "https://localhost:8080/",
     "height": 286
    },
    "id": "xEW8OCcwb9tM",
    "outputId": "48421e42-17d4-4249-c91c-9ad9c06773db"
   },
   "outputs": [
    {
     "data": {
      "text/html": [
       "<table class=\"dataframe\">\n",
       "<caption>A data.frame: 6 × 5</caption>\n",
       "<thead>\n",
       "\t<tr><th></th><th scope=col>Sex</th><th scope=col>BP</th><th scope=col>Cholesterol</th><th scope=col>Na_to_K</th><th scope=col>Drug</th></tr>\n",
       "\t<tr><th></th><th scope=col>&lt;chr&gt;</th><th scope=col>&lt;chr&gt;</th><th scope=col>&lt;chr&gt;</th><th scope=col>&lt;dbl&gt;</th><th scope=col>&lt;int&gt;</th></tr>\n",
       "</thead>\n",
       "<tbody>\n",
       "\t<tr><th scope=row>1</th><td>F</td><td>HIGH  </td><td>HIGH</td><td>25.355</td><td>4</td></tr>\n",
       "\t<tr><th scope=row>2</th><td>M</td><td>LOW   </td><td>HIGH</td><td>13.093</td><td>2</td></tr>\n",
       "\t<tr><th scope=row>3</th><td>M</td><td>LOW   </td><td>HIGH</td><td>10.114</td><td>2</td></tr>\n",
       "\t<tr><th scope=row>4</th><td>F</td><td>NORMAL</td><td>HIGH</td><td> 7.798</td><td>3</td></tr>\n",
       "\t<tr><th scope=row>5</th><td>F</td><td>LOW   </td><td>HIGH</td><td>18.043</td><td>4</td></tr>\n",
       "\t<tr><th scope=row>6</th><td>F</td><td>NORMAL</td><td>HIGH</td><td> 8.607</td><td>3</td></tr>\n",
       "</tbody>\n",
       "</table>\n"
      ],
      "text/latex": [
       "A data.frame: 6 × 5\n",
       "\\begin{tabular}{r|lllll}\n",
       "  & Sex & BP & Cholesterol & Na\\_to\\_K & Drug\\\\\n",
       "  & <chr> & <chr> & <chr> & <dbl> & <int>\\\\\n",
       "\\hline\n",
       "\t1 & F & HIGH   & HIGH & 25.355 & 4\\\\\n",
       "\t2 & M & LOW    & HIGH & 13.093 & 2\\\\\n",
       "\t3 & M & LOW    & HIGH & 10.114 & 2\\\\\n",
       "\t4 & F & NORMAL & HIGH &  7.798 & 3\\\\\n",
       "\t5 & F & LOW    & HIGH & 18.043 & 4\\\\\n",
       "\t6 & F & NORMAL & HIGH &  8.607 & 3\\\\\n",
       "\\end{tabular}\n"
      ],
      "text/markdown": [
       "\n",
       "A data.frame: 6 × 5\n",
       "\n",
       "| <!--/--> | Sex &lt;chr&gt; | BP &lt;chr&gt; | Cholesterol &lt;chr&gt; | Na_to_K &lt;dbl&gt; | Drug &lt;int&gt; |\n",
       "|---|---|---|---|---|---|\n",
       "| 1 | F | HIGH   | HIGH | 25.355 | 4 |\n",
       "| 2 | M | LOW    | HIGH | 13.093 | 2 |\n",
       "| 3 | M | LOW    | HIGH | 10.114 | 2 |\n",
       "| 4 | F | NORMAL | HIGH |  7.798 | 3 |\n",
       "| 5 | F | LOW    | HIGH | 18.043 | 4 |\n",
       "| 6 | F | NORMAL | HIGH |  8.607 | 3 |\n",
       "\n"
      ],
      "text/plain": [
       "  Sex BP     Cholesterol Na_to_K Drug\n",
       "1 F   HIGH   HIGH        25.355  4   \n",
       "2 M   LOW    HIGH        13.093  2   \n",
       "3 M   LOW    HIGH        10.114  2   \n",
       "4 F   NORMAL HIGH         7.798  3   \n",
       "5 F   LOW    HIGH        18.043  4   \n",
       "6 F   NORMAL HIGH         8.607  3   "
      ]
     },
     "metadata": {},
     "output_type": "display_data"
    }
   ],
   "source": [
    "drug$Drug[drug$Drug == \"drugB\"] <- 1\n",
    "drug$Drug[drug$Drug == \"drugC\"] <- 2\n",
    "drug$Drug[drug$Drug == \"drugX\"] <- 3\n",
    "drug$Drug[drug$Drug == \"DrugY\"] <- 4\n",
    "drug$Drug <- as.integer(drug$Drug)\n",
    "head(drug)"
   ]
  },
  {
   "cell_type": "code",
   "execution_count": 11,
   "metadata": {
    "colab": {
     "base_uri": "https://localhost:8080/",
     "height": 286
    },
    "id": "vRnLw_1q9yCQ",
    "outputId": "b7fab524-ddef-468f-9d7e-592b1316bec6"
   },
   "outputs": [
    {
     "data": {
      "text/html": [
       "<table class=\"dataframe\">\n",
       "<caption>A data.frame: 6 × 5</caption>\n",
       "<thead>\n",
       "\t<tr><th></th><th scope=col>Sex</th><th scope=col>BP</th><th scope=col>Cholesterol</th><th scope=col>Na_to_K</th><th scope=col>Drug</th></tr>\n",
       "\t<tr><th></th><th scope=col>&lt;int&gt;</th><th scope=col>&lt;int&gt;</th><th scope=col>&lt;int&gt;</th><th scope=col>&lt;dbl&gt;</th><th scope=col>&lt;int&gt;</th></tr>\n",
       "</thead>\n",
       "<tbody>\n",
       "\t<tr><th scope=row>1</th><td>1</td><td>2</td><td>1</td><td>25.355</td><td>4</td></tr>\n",
       "\t<tr><th scope=row>2</th><td>0</td><td>0</td><td>1</td><td>13.093</td><td>2</td></tr>\n",
       "\t<tr><th scope=row>3</th><td>0</td><td>0</td><td>1</td><td>10.114</td><td>2</td></tr>\n",
       "\t<tr><th scope=row>4</th><td>1</td><td>1</td><td>1</td><td> 7.798</td><td>3</td></tr>\n",
       "\t<tr><th scope=row>5</th><td>1</td><td>0</td><td>1</td><td>18.043</td><td>4</td></tr>\n",
       "\t<tr><th scope=row>6</th><td>1</td><td>1</td><td>1</td><td> 8.607</td><td>3</td></tr>\n",
       "</tbody>\n",
       "</table>\n"
      ],
      "text/latex": [
       "A data.frame: 6 × 5\n",
       "\\begin{tabular}{r|lllll}\n",
       "  & Sex & BP & Cholesterol & Na\\_to\\_K & Drug\\\\\n",
       "  & <int> & <int> & <int> & <dbl> & <int>\\\\\n",
       "\\hline\n",
       "\t1 & 1 & 2 & 1 & 25.355 & 4\\\\\n",
       "\t2 & 0 & 0 & 1 & 13.093 & 2\\\\\n",
       "\t3 & 0 & 0 & 1 & 10.114 & 2\\\\\n",
       "\t4 & 1 & 1 & 1 &  7.798 & 3\\\\\n",
       "\t5 & 1 & 0 & 1 & 18.043 & 4\\\\\n",
       "\t6 & 1 & 1 & 1 &  8.607 & 3\\\\\n",
       "\\end{tabular}\n"
      ],
      "text/markdown": [
       "\n",
       "A data.frame: 6 × 5\n",
       "\n",
       "| <!--/--> | Sex &lt;int&gt; | BP &lt;int&gt; | Cholesterol &lt;int&gt; | Na_to_K &lt;dbl&gt; | Drug &lt;int&gt; |\n",
       "|---|---|---|---|---|---|\n",
       "| 1 | 1 | 2 | 1 | 25.355 | 4 |\n",
       "| 2 | 0 | 0 | 1 | 13.093 | 2 |\n",
       "| 3 | 0 | 0 | 1 | 10.114 | 2 |\n",
       "| 4 | 1 | 1 | 1 |  7.798 | 3 |\n",
       "| 5 | 1 | 0 | 1 | 18.043 | 4 |\n",
       "| 6 | 1 | 1 | 1 |  8.607 | 3 |\n",
       "\n"
      ],
      "text/plain": [
       "  Sex BP Cholesterol Na_to_K Drug\n",
       "1 1   2  1           25.355  4   \n",
       "2 0   0  1           13.093  2   \n",
       "3 0   0  1           10.114  2   \n",
       "4 1   1  1            7.798  3   \n",
       "5 1   0  1           18.043  4   \n",
       "6 1   1  1            8.607  3   "
      ]
     },
     "metadata": {},
     "output_type": "display_data"
    }
   ],
   "source": [
    "drug$Sex[drug$Sex == \"M\"] <- 0\n",
    "drug$Sex[drug$Sex == \"F\"] <- 1\n",
    "drug$Sex <- as.integer(drug$Sex)\n",
    "\n",
    "\n",
    "drug$BP[drug$BP == \"LOW\"] <- 0\n",
    "drug$BP[drug$BP == \"NORMAL\"] <- 1\n",
    "drug$BP[drug$BP == \"HIGH\"] <- 2\n",
    "drug$BP <- as.integer(drug$BP)\n",
    "\n",
    "drug$Cholesterol[drug$Cholesterol == \"NORMAL\"] <- 0\n",
    "drug$Cholesterol[drug$Cholesterol == \"HIGH\"] <- 1\n",
    "drug$Cholesterol <- as.integer(drug$Cholesterol)\n",
    "\n",
    "head(drug)"
   ]
  },
  {
   "cell_type": "code",
   "execution_count": 12,
   "metadata": {
    "colab": {
     "base_uri": "https://localhost:8080/",
     "height": 34
    },
    "id": "lYEeQzQ6dZkL",
    "outputId": "f2d98046-a24f-45af-a687-754afb85c1fc"
   },
   "outputs": [
    {
     "data": {
      "text/html": [
       "0"
      ],
      "text/latex": [
       "0"
      ],
      "text/markdown": [
       "0"
      ],
      "text/plain": [
       "[1] 0"
      ]
     },
     "metadata": {},
     "output_type": "display_data"
    }
   ],
   "source": [
    "sum(is.na(drug))"
   ]
  },
  {
   "cell_type": "code",
   "execution_count": 13,
   "metadata": {
    "colab": {
     "base_uri": "https://localhost:8080/",
     "height": 34
    },
    "id": "wY05d8oOhxp4",
    "outputId": "90b22d75-3789-4683-999e-a09ea917d7f0"
   },
   "outputs": [
    {
     "data": {
      "text/html": [
       "<style>\n",
       ".list-inline {list-style: none; margin:0; padding: 0}\n",
       ".list-inline>li {display: inline-block}\n",
       ".list-inline>li:not(:last-child)::after {content: \"\\00b7\"; padding: 0 .5ex}\n",
       "</style>\n",
       "<ol class=list-inline><li>6.269</li><li>38.247</li></ol>\n"
      ],
      "text/latex": [
       "\\begin{enumerate*}\n",
       "\\item 6.269\n",
       "\\item 38.247\n",
       "\\end{enumerate*}\n"
      ],
      "text/markdown": [
       "1. 6.269\n",
       "2. 38.247\n",
       "\n",
       "\n"
      ],
      "text/plain": [
       "[1]  6.269 38.247"
      ]
     },
     "metadata": {},
     "output_type": "display_data"
    }
   ],
   "source": [
    "range(drug$Na)"
   ]
  },
  {
   "cell_type": "code",
   "execution_count": 14,
   "metadata": {
    "colab": {
     "base_uri": "https://localhost:8080/",
     "height": 34
    },
    "id": "0Qx1MX7ch0-b",
    "outputId": "d5e2446d-347f-4fcb-82f8-90099e45d41c"
   },
   "outputs": [
    {
     "data": {
      "text/html": [
       "<style>\n",
       ".list-inline {list-style: none; margin:0; padding: 0}\n",
       ".list-inline>li {display: inline-block}\n",
       ".list-inline>li:not(:last-child)::after {content: \"\\00b7\"; padding: 0 .5ex}\n",
       "</style>\n",
       "<ol class=list-inline><li>1</li><li>0</li></ol>\n"
      ],
      "text/latex": [
       "\\begin{enumerate*}\n",
       "\\item 1\n",
       "\\item 0\n",
       "\\end{enumerate*}\n"
      ],
      "text/markdown": [
       "1. 1\n",
       "2. 0\n",
       "\n",
       "\n"
      ],
      "text/plain": [
       "[1] 1 0"
      ]
     },
     "metadata": {},
     "output_type": "display_data"
    }
   ],
   "source": [
    "unique(drug$Cholesterol)"
   ]
  },
  {
   "cell_type": "markdown",
   "metadata": {
    "id": "khot_ezc_oYN"
   },
   "source": [
    "### Chi Square Correlation Test"
   ]
  },
  {
   "cell_type": "code",
   "execution_count": 15,
   "metadata": {
    "colab": {
     "base_uri": "https://localhost:8080/",
     "height": 108
    },
    "id": "VShfDCVyaUhd",
    "outputId": "5ad67328-2baa-4725-b4d5-bdccba7b736f"
   },
   "outputs": [
    {
     "data": {
      "text/plain": [
       "\n",
       "\tPearson's Chi-squared test\n",
       "\n",
       "data:  drug$Sex and drug$Drug\n",
       "X-squared = 2.1192, df = 4, p-value = 0.7138\n"
      ]
     },
     "metadata": {},
     "output_type": "display_data"
    }
   ],
   "source": [
    "chisq.test(drug$Sex, drug$Drug)"
   ]
  },
  {
   "cell_type": "code",
   "execution_count": 16,
   "metadata": {
    "colab": {
     "base_uri": "https://localhost:8080/",
     "height": 144
    },
    "id": "N8WLc-x7cBRk",
    "outputId": "d6b3a5e8-303d-43ce-b95a-d130575b60c0"
   },
   "outputs": [
    {
     "name": "stderr",
     "output_type": "stream",
     "text": [
      "Warning message in chisq.test(drug$BP, drug$Drug):\n",
      "“Chi-squared approximation may be incorrect”\n"
     ]
    },
    {
     "data": {
      "text/plain": [
       "\n",
       "\tPearson's Chi-squared test\n",
       "\n",
       "data:  drug$BP and drug$Drug\n",
       "X-squared = 143.23, df = 8, p-value < 2.2e-16\n"
      ]
     },
     "metadata": {},
     "output_type": "display_data"
    }
   ],
   "source": [
    "chisq.test(drug$BP, drug$Drug)"
   ]
  },
  {
   "cell_type": "code",
   "execution_count": 17,
   "metadata": {
    "colab": {
     "base_uri": "https://localhost:8080/",
     "height": 108
    },
    "id": "8LgmHtlRcBPp",
    "outputId": "653e3f9a-8b0e-47f3-958c-1075e0a7ac6c"
   },
   "outputs": [
    {
     "data": {
      "text/plain": [
       "\n",
       "\tPearson's Chi-squared test\n",
       "\n",
       "data:  drug$Cholesterol and drug$Drug\n",
       "X-squared = 19.61, df = 4, p-value = 0.0005963\n"
      ]
     },
     "metadata": {},
     "output_type": "display_data"
    }
   ],
   "source": [
    "chisq.test(drug$Cholesterol, drug$Drug)"
   ]
  },
  {
   "cell_type": "markdown",
   "metadata": {},
   "source": [
    "The Chi-Squared independence test is conducted to test and see if a variable is independent of other variables or is dependent. The following are the results of the Chi-Squared independence test that has been carried out using the variables Sex, BP and Cholesterol. <br><br>The results of the Chi-Squared independence test show that only the variable **Sex** is independent because they have a p-value of more than 0.05."
   ]
  },
  {
   "cell_type": "markdown",
   "metadata": {
    "id": "Q7PgzHbf_-we"
   },
   "source": [
    "### Pearson Correlation Test"
   ]
  },
  {
   "cell_type": "code",
   "execution_count": 18,
   "metadata": {
    "colab": {
     "base_uri": "https://localhost:8080/"
    },
    "id": "36yUmdnyAAaA",
    "outputId": "14a74f3d-b6d5-4dbc-9d85-108b616c1ed8"
   },
   "outputs": [
    {
     "name": "stdout",
     "output_type": "stream",
     "text": [
      "      cor \n",
      "0.5891199 \n",
      "[1] 4.478879e-20\n"
     ]
    }
   ],
   "source": [
    "print(cor.test(drug$Na_to_K, drug$Drug)$p.value)"
   ]
  },
  {
   "cell_type": "markdown",
   "metadata": {},
   "source": [
    "Pearson correlation test was conducted to test and see the level of correlation between variables with numeric data types. Above is the correlation between the predictor variable Na - K Ratio on the response variable Drug. <br><br>The predictor variable has a p-value much smaller than 0.05. This means that the predictor variable has an effect on the response variable, Drug. The correlation coefficient value shows how much correlation occurs. The **Na - K Ratio** variable has a moderate correlation level (between 0.5 and 0.7)."
   ]
  },
  {
   "cell_type": "markdown",
   "metadata": {
    "id": "UusZdTDXATcf"
   },
   "source": [
    "### Multinomial Logistic Regression Model"
   ]
  },
  {
   "cell_type": "code",
   "execution_count": 19,
   "metadata": {
    "colab": {
     "base_uri": "https://localhost:8080/",
     "height": 700
    },
    "id": "LnGejc-oAUet",
    "outputId": "7d868537-ec5b-4698-b452-92f0db99f81a"
   },
   "outputs": [
    {
     "name": "stdout",
     "output_type": "stream",
     "text": [
      "# weights:  30 (20 variable)\n",
      "initial  value 321.887582 \n",
      "iter  10 value 124.643143\n",
      "iter  20 value 39.919958\n",
      "iter  30 value 25.944673\n",
      "iter  40 value 25.742793\n",
      "iter  50 value 25.739680\n",
      "final  value 25.739675 \n",
      "converged\n"
     ]
    },
    {
     "data": {
      "text/plain": [
       "Call:\n",
       "multinom(formula = Drug ~ ., data = drug)\n",
       "\n",
       "Coefficients:\n",
       "  (Intercept)         Sex         BP Cholesterol    Na_to_K\n",
       "1    8.358006  -0.3311211   -5.42457  -0.3077395  0.2149282\n",
       "2  455.065115  -2.6273571 -485.94121  89.3419875 -4.5761605\n",
       "3  356.910411 -17.8951188 -282.15778 -84.9104476 14.8544498\n",
       "4 -451.568654 -14.4935593 -280.00450 -70.1410683 69.0285903\n",
       "\n",
       "Std. Errors:\n",
       "  (Intercept)       Sex           BP Cholesterol     Na_to_K\n",
       "1   0.4114248 0.7167796 8.228496e-01 0.693842239   0.1930325\n",
       "2   7.2308639 7.2023851 1.001187e-18 7.230863769 102.3586456\n",
       "3   6.9813095 6.6085085 4.132218e+01 7.231475270  96.8473261\n",
       "4   6.8350992 6.9002428 1.475738e-01 0.003723011 100.0461524\n",
       "\n",
       "Residual Deviance: 51.47935 \n",
       "AIC: 91.47935 "
      ]
     },
     "metadata": {},
     "output_type": "display_data"
    },
    {
     "data": {
      "text/html": [
       "<table class=\"dataframe\">\n",
       "<caption>A matrix: 4 × 5 of type dbl</caption>\n",
       "<thead>\n",
       "\t<tr><th></th><th scope=col>(Intercept)</th><th scope=col>Sex</th><th scope=col>BP</th><th scope=col>Cholesterol</th><th scope=col>Na_to_K</th></tr>\n",
       "</thead>\n",
       "<tbody>\n",
       "\t<tr><th scope=row>1</th><td>   8.358006</td><td> -0.3311211</td><td>  -5.42457</td><td> -0.3077395</td><td> 0.2149282</td></tr>\n",
       "\t<tr><th scope=row>2</th><td> 455.065115</td><td> -2.6273571</td><td>-485.94121</td><td> 89.3419875</td><td>-4.5761605</td></tr>\n",
       "\t<tr><th scope=row>3</th><td> 356.910411</td><td>-17.8951188</td><td>-282.15778</td><td>-84.9104476</td><td>14.8544498</td></tr>\n",
       "\t<tr><th scope=row>4</th><td>-451.568654</td><td>-14.4935593</td><td>-280.00450</td><td>-70.1410683</td><td>69.0285903</td></tr>\n",
       "</tbody>\n",
       "</table>\n"
      ],
      "text/latex": [
       "A matrix: 4 × 5 of type dbl\n",
       "\\begin{tabular}{r|lllll}\n",
       "  & (Intercept) & Sex & BP & Cholesterol & Na\\_to\\_K\\\\\n",
       "\\hline\n",
       "\t1 &    8.358006 &  -0.3311211 &   -5.42457 &  -0.3077395 &  0.2149282\\\\\n",
       "\t2 &  455.065115 &  -2.6273571 & -485.94121 &  89.3419875 & -4.5761605\\\\\n",
       "\t3 &  356.910411 & -17.8951188 & -282.15778 & -84.9104476 & 14.8544498\\\\\n",
       "\t4 & -451.568654 & -14.4935593 & -280.00450 & -70.1410683 & 69.0285903\\\\\n",
       "\\end{tabular}\n"
      ],
      "text/markdown": [
       "\n",
       "A matrix: 4 × 5 of type dbl\n",
       "\n",
       "| <!--/--> | (Intercept) | Sex | BP | Cholesterol | Na_to_K |\n",
       "|---|---|---|---|---|---|\n",
       "| 1 |    8.358006 |  -0.3311211 |   -5.42457 |  -0.3077395 |  0.2149282 |\n",
       "| 2 |  455.065115 |  -2.6273571 | -485.94121 |  89.3419875 | -4.5761605 |\n",
       "| 3 |  356.910411 | -17.8951188 | -282.15778 | -84.9104476 | 14.8544498 |\n",
       "| 4 | -451.568654 | -14.4935593 | -280.00450 | -70.1410683 | 69.0285903 |\n",
       "\n"
      ],
      "text/plain": [
       "  (Intercept) Sex         BP         Cholesterol Na_to_K   \n",
       "1    8.358006  -0.3311211   -5.42457  -0.3077395  0.2149282\n",
       "2  455.065115  -2.6273571 -485.94121  89.3419875 -4.5761605\n",
       "3  356.910411 -17.8951188 -282.15778 -84.9104476 14.8544498\n",
       "4 -451.568654 -14.4935593 -280.00450 -70.1410683 69.0285903"
      ]
     },
     "metadata": {},
     "output_type": "display_data"
    }
   ],
   "source": [
    "model2 <- multinom(Drug ~ ., data = drug)\n",
    "summary(model2)\n",
    "coef(model2)"
   ]
  },
  {
   "cell_type": "markdown",
   "metadata": {
    "id": "n6Zlz5_UABid"
   },
   "source": [
    "### Uji Multikolinearitas"
   ]
  },
  {
   "cell_type": "code",
   "execution_count": 21,
   "metadata": {
    "colab": {
     "base_uri": "https://localhost:8080/",
     "height": 437
    },
    "id": "npqB2vO84Pw7",
    "outputId": "172acd3f-c1c8-4562-a0bb-1259f889df86"
   },
   "outputs": [
    {
     "data": {
      "image/png": "[encoded data removed]",
      "text/plain": [
       "Plot with title “Multicollinearity Check”"
      ]
     },
     "metadata": {
      "image/png": {
       "height": 420,
       "width": 420
      }
     },
     "output_type": "display_data"
    }
   ],
   "source": [
    "correlation <- select(drug, \"Sex\", \"BP\", \"Cholesterol\", \"Na_to_K\", \"Drug\")\n",
    "correlation <- na.omit(correlation)\n",
    "\n",
    "correlation <- round(cor(correlation), 2)\n",
    "col <- colorRampPalette(c(\"#FFA500\", \"#F1B04C\", \"#FFFFFF\", \"#90EE90\", \"#00FF00\"))\n",
    "\n",
    "corrplot(correlation, method = \"shade\", shade.col = NA, tl.col = \"black\", tl.srt = 45,\n",
    "        col = col(200), title = \"Multicollinearity Check\", mar=c(0,0,1,0),\n",
    "          addCoef.col = \"black\", cl.pos = \"n\", order = \"AOE\")"
   ]
  },
  {
   "cell_type": "markdown",
   "metadata": {},
   "source": [
    "All variables have Pearson correlation coefficient values close to 0, which means there is no multicollinearity of the four predictor variables."
   ]
  },
  {
   "cell_type": "markdown",
   "metadata": {
    "id": "4HP_sy7eAa7H"
   },
   "source": [
    "### Likelihood Ratio Significance Test"
   ]
  },
  {
   "cell_type": "code",
   "execution_count": 22,
   "metadata": {
    "colab": {
     "base_uri": "https://localhost:8080/"
    },
    "id": "Z-9SkEx4eIsA",
    "outputId": "e45d2621-5a85-4df9-df0d-fe238144e83e",
    "scrolled": true
   },
   "outputs": [
    {
     "name": "stdout",
     "output_type": "stream",
     "text": [
      "# weights:  10 (4 variable)\n",
      "initial  value 321.887582 \n",
      "iter  10 value 272.930914\n",
      "iter  10 value 272.930914\n",
      "final  value 272.930914 \n",
      "converged\n"
     ]
    }
   ],
   "source": [
    "null2 <- multinom(Drug ~ 1, data = drug)"
   ]
  },
  {
   "cell_type": "code",
   "execution_count": 29,
   "metadata": {
    "colab": {
     "base_uri": "https://localhost:8080/",
     "height": 161
    },
    "id": "TsGBAujDl4HO",
    "outputId": "29b7004f-cc45-41a5-b7c0-dd311bad2519"
   },
   "outputs": [
    {
     "data": {
      "text/html": [
       "<table class=\"dataframe\">\n",
       "<caption>A anova: 2 × 5</caption>\n",
       "<thead>\n",
       "\t<tr><th></th><th scope=col>#Df</th><th scope=col>LogLik</th><th scope=col>Df</th><th scope=col>Chisq</th><th scope=col>Pr(&gt;Chisq)</th></tr>\n",
       "\t<tr><th></th><th scope=col>&lt;dbl&gt;</th><th scope=col>&lt;dbl&gt;</th><th scope=col>&lt;dbl&gt;</th><th scope=col>&lt;dbl&gt;</th><th scope=col>&lt;dbl&gt;</th></tr>\n",
       "</thead>\n",
       "<tbody>\n",
       "\t<tr><th scope=row>1</th><td>20</td><td> -25.73968</td><td> NA</td><td>      NA</td><td>        NA</td></tr>\n",
       "\t<tr><th scope=row>2</th><td> 4</td><td>-272.93091</td><td>-16</td><td>494.3825</td><td>5.0984e-95</td></tr>\n",
       "</tbody>\n",
       "</table>\n"
      ],
      "text/latex": [
       "A anova: 2 × 5\n",
       "\\begin{tabular}{r|lllll}\n",
       "  & \\#Df & LogLik & Df & Chisq & Pr(>Chisq)\\\\\n",
       "  & <dbl> & <dbl> & <dbl> & <dbl> & <dbl>\\\\\n",
       "\\hline\n",
       "\t1 & 20 &  -25.73968 &  NA &       NA &         NA\\\\\n",
       "\t2 &  4 & -272.93091 & -16 & 494.3825 & 5.0984e-95\\\\\n",
       "\\end{tabular}\n"
      ],
      "text/markdown": [
       "\n",
       "A anova: 2 × 5\n",
       "\n",
       "| <!--/--> | #Df &lt;dbl&gt; | LogLik &lt;dbl&gt; | Df &lt;dbl&gt; | Chisq &lt;dbl&gt; | Pr(&gt;Chisq) &lt;dbl&gt; |\n",
       "|---|---|---|---|---|---|\n",
       "| 1 | 20 |  -25.73968 |  NA |       NA |         NA |\n",
       "| 2 |  4 | -272.93091 | -16 | 494.3825 | 5.0984e-95 |\n",
       "\n"
      ],
      "text/plain": [
       "  #Df LogLik     Df  Chisq    Pr(>Chisq)\n",
       "1 20   -25.73968  NA       NA         NA\n",
       "2  4  -272.93091 -16 494.3825 5.0984e-95"
      ]
     },
     "metadata": {},
     "output_type": "display_data"
    }
   ],
   "source": [
    "lrtest(model2, null2)"
   ]
  },
  {
   "cell_type": "markdown",
   "metadata": {},
   "source": [
    "There is at least one independent variable that affects the dependent variable."
   ]
  },
  {
   "cell_type": "markdown",
   "metadata": {
    "id": "4HP_sy7eAa7H"
   },
   "source": [
    "### Wald Significance Test"
   ]
  },
  {
   "cell_type": "code",
   "execution_count": 39,
   "metadata": {
    "colab": {
     "base_uri": "https://localhost:8080/",
     "height": 223
    },
    "id": "COfWD2pAm-Ky",
    "outputId": "11156abb-19e2-4005-bdde-caf125eb8e0a",
    "scrolled": true
   },
   "outputs": [
    {
     "data": {
      "text/html": [
       "<table class=\"dataframe\">\n",
       "<caption>A data.frame: 4 × 5</caption>\n",
       "<thead>\n",
       "\t<tr><th></th><th scope=col>X.Intercept.</th><th scope=col>Sex</th><th scope=col>BP</th><th scope=col>Cholesterol</th><th scope=col>Na_to_K</th></tr>\n",
       "\t<tr><th></th><th scope=col>&lt;dbl&gt;</th><th scope=col>&lt;dbl&gt;</th><th scope=col>&lt;dbl&gt;</th><th scope=col>&lt;dbl&gt;</th><th scope=col>&lt;dbl&gt;</th></tr>\n",
       "</thead>\n",
       "<tbody>\n",
       "\t<tr><th scope=row>1</th><td>0</td><td>0.644112405</td><td>4.327139e-11</td><td>0.6573828</td><td>0.2655237</td></tr>\n",
       "\t<tr><th scope=row>2</th><td>0</td><td>0.715268267</td><td>0.000000e+00</td><td>0.0000000</td><td>0.9643408</td></tr>\n",
       "\t<tr><th scope=row>3</th><td>0</td><td>0.006771231</td><td>8.596235e-12</td><td>0.0000000</td><td>0.8780986</td></tr>\n",
       "\t<tr><th scope=row>4</th><td>0</td><td>0.035689984</td><td>0.000000e+00</td><td>0.0000000</td><td>0.4902146</td></tr>\n",
       "</tbody>\n",
       "</table>\n"
      ],
      "text/latex": [
       "A data.frame: 4 × 5\n",
       "\\begin{tabular}{r|lllll}\n",
       "  & X.Intercept. & Sex & BP & Cholesterol & Na\\_to\\_K\\\\\n",
       "  & <dbl> & <dbl> & <dbl> & <dbl> & <dbl>\\\\\n",
       "\\hline\n",
       "\t1 & 0 & 0.644112405 & 4.327139e-11 & 0.6573828 & 0.2655237\\\\\n",
       "\t2 & 0 & 0.715268267 & 0.000000e+00 & 0.0000000 & 0.9643408\\\\\n",
       "\t3 & 0 & 0.006771231 & 8.596235e-12 & 0.0000000 & 0.8780986\\\\\n",
       "\t4 & 0 & 0.035689984 & 0.000000e+00 & 0.0000000 & 0.4902146\\\\\n",
       "\\end{tabular}\n"
      ],
      "text/markdown": [
       "\n",
       "A data.frame: 4 × 5\n",
       "\n",
       "| <!--/--> | X.Intercept. &lt;dbl&gt; | Sex &lt;dbl&gt; | BP &lt;dbl&gt; | Cholesterol &lt;dbl&gt; | Na_to_K &lt;dbl&gt; |\n",
       "|---|---|---|---|---|---|\n",
       "| 1 | 0 | 0.644112405 | 4.327139e-11 | 0.6573828 | 0.2655237 |\n",
       "| 2 | 0 | 0.715268267 | 0.000000e+00 | 0.0000000 | 0.9643408 |\n",
       "| 3 | 0 | 0.006771231 | 8.596235e-12 | 0.0000000 | 0.8780986 |\n",
       "| 4 | 0 | 0.035689984 | 0.000000e+00 | 0.0000000 | 0.4902146 |\n",
       "\n"
      ],
      "text/plain": [
       "  X.Intercept. Sex         BP           Cholesterol Na_to_K  \n",
       "1 0            0.644112405 4.327139e-11 0.6573828   0.2655237\n",
       "2 0            0.715268267 0.000000e+00 0.0000000   0.9643408\n",
       "3 0            0.006771231 8.596235e-12 0.0000000   0.8780986\n",
       "4 0            0.035689984 0.000000e+00 0.0000000   0.4902146"
      ]
     },
     "metadata": {},
     "output_type": "display_data"
    }
   ],
   "source": [
    "The variables that affect the Travel Insurance variable are **Age**, **Annual Income**, **Family Members**, **Frequent Flyer**, and **Ever Traveled Abroad**.z = summary(model2)$coefficients/summary(model2)$standard.errors\n",
    "p = 2 * (1 - pnorm(abs(z), 0, 1))\n",
    "\n",
    "data.frame(p)"
   ]
  },
  {
   "cell_type": "markdown",
   "metadata": {},
   "source": [
    "For Drug B, the variable that affect the Drug variable is **BP**. For Drug C, the variables that affect the Drug variable are **BP** and **Cholesterol**. Finally for Drug X and Drug Y, the variables that affect the Drug variable are **Sex**, **BP** and **Cholesterol**. "
   ]
  },
  {
   "cell_type": "markdown",
   "metadata": {
    "id": "3R1KFdAFAoef"
   },
   "source": [
    "### Odd Ratio"
   ]
  },
  {
   "cell_type": "code",
   "execution_count": 40,
   "metadata": {
    "colab": {
     "base_uri": "https://localhost:8080/",
     "height": 192
    },
    "id": "olQ_G9fOAp16",
    "outputId": "626a829c-1ade-4ddc-d830-2861a2d83184",
    "scrolled": true
   },
   "outputs": [
    {
     "data": {
      "text/html": [
       "<table class=\"dataframe\">\n",
       "<caption>A matrix: 4 × 5 of type dbl</caption>\n",
       "<thead>\n",
       "\t<tr><th></th><th scope=col>(Intercept)</th><th scope=col>Sex</th><th scope=col>BP</th><th scope=col>Cholesterol</th><th scope=col>Na_to_K</th></tr>\n",
       "</thead>\n",
       "<tbody>\n",
       "\t<tr><th scope=row>1</th><td> 4.264183e+03</td><td>7.181182e-01</td><td> 4.406960e-03</td><td>7.351068e-01</td><td>1.239773e+00</td></tr>\n",
       "\t<tr><th scope=row>2</th><td>4.288132e+197</td><td>7.226921e-02</td><td>9.086818e-212</td><td>6.320220e+38</td><td>1.029435e-02</td></tr>\n",
       "\t<tr><th scope=row>3</th><td>1.009769e+155</td><td>1.691409e-08</td><td>2.886899e-123</td><td>1.330029e-37</td><td>2.826217e+06</td></tr>\n",
       "\t<tr><th scope=row>4</th><td>7.695295e-197</td><td>5.076065e-07</td><td>2.486501e-122</td><td>3.452400e-31</td><td>9.522169e+29</td></tr>\n",
       "</tbody>\n",
       "</table>\n"
      ],
      "text/latex": [
       "A matrix: 4 × 5 of type dbl\n",
       "\\begin{tabular}{r|lllll}\n",
       "  & (Intercept) & Sex & BP & Cholesterol & Na\\_to\\_K\\\\\n",
       "\\hline\n",
       "\t1 &  4.264183e+03 & 7.181182e-01 &  4.406960e-03 & 7.351068e-01 & 1.239773e+00\\\\\n",
       "\t2 & 4.288132e+197 & 7.226921e-02 & 9.086818e-212 & 6.320220e+38 & 1.029435e-02\\\\\n",
       "\t3 & 1.009769e+155 & 1.691409e-08 & 2.886899e-123 & 1.330029e-37 & 2.826217e+06\\\\\n",
       "\t4 & 7.695295e-197 & 5.076065e-07 & 2.486501e-122 & 3.452400e-31 & 9.522169e+29\\\\\n",
       "\\end{tabular}\n"
      ],
      "text/markdown": [
       "\n",
       "A matrix: 4 × 5 of type dbl\n",
       "\n",
       "| <!--/--> | (Intercept) | Sex | BP | Cholesterol | Na_to_K |\n",
       "|---|---|---|---|---|---|\n",
       "| 1 |  4.264183e+03 | 7.181182e-01 |  4.406960e-03 | 7.351068e-01 | 1.239773e+00 |\n",
       "| 2 | 4.288132e+197 | 7.226921e-02 | 9.086818e-212 | 6.320220e+38 | 1.029435e-02 |\n",
       "| 3 | 1.009769e+155 | 1.691409e-08 | 2.886899e-123 | 1.330029e-37 | 2.826217e+06 |\n",
       "| 4 | 7.695295e-197 | 5.076065e-07 | 2.486501e-122 | 3.452400e-31 | 9.522169e+29 |\n",
       "\n"
      ],
      "text/plain": [
       "  (Intercept)   Sex          BP            Cholesterol  Na_to_K     \n",
       "1  4.264183e+03 7.181182e-01  4.406960e-03 7.351068e-01 1.239773e+00\n",
       "2 4.288132e+197 7.226921e-02 9.086818e-212 6.320220e+38 1.029435e-02\n",
       "3 1.009769e+155 1.691409e-08 2.886899e-123 1.330029e-37 2.826217e+06\n",
       "4 7.695295e-197 5.076065e-07 2.486501e-122 3.452400e-31 9.522169e+29"
      ]
     },
     "metadata": {},
     "output_type": "display_data"
    }
   ],
   "source": [
    "odds_ratio = exp(coef(model2))\n",
    "odds_ratio"
   ]
  },
  {
   "cell_type": "markdown",
   "metadata": {},
   "source": [
    "**Sex** and **Cholesterol** are the independent variables that have the most influence on the likelihood of someone having Drug B. **Cholesterol** is the independent variable that has the most influence on the likelihood of someone having Drug C. Finally, **Na - K Ratio** is the independent variable that has the most influence on the likelihood of someone having Drug X and Drug Y."
   ]
  }
 ],
 "metadata": {
  "colab": {
   "provenance": []
  },
  "kernelspec": {
   "display_name": "R",
   "name": "ir"
  },
  "language_info": {
   "name": "R"
  }
 },
 "nbformat": 4,
 "nbformat_minor": 1
}
